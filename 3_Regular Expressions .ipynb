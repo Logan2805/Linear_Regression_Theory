{
 "cells": [
  {
   "cell_type": "code",
   "execution_count": 2,
   "id": "boring-local",
   "metadata": {},
   "outputs": [],
   "source": [
    "import re"
   ]
  },
  {
   "cell_type": "code",
   "execution_count": 3,
   "id": "1cde1d7d",
   "metadata": {},
   "outputs": [
    {
     "data": {
      "text/plain": [
       "['Batman']"
      ]
     },
     "execution_count": 3,
     "metadata": {},
     "output_type": "execute_result"
    }
   ],
   "source": [
    "import re\n",
    "text = 'Batwoman'\n",
    "text2 = 'Batman'\n",
    "\n",
    "result = re.findall('Batw?o?man',text2)\n",
    "result"
   ]
  },
  {
   "cell_type": "code",
   "execution_count": 8,
   "id": "purple-imperial",
   "metadata": {},
   "outputs": [
    {
     "data": {
      "text/plain": [
       "['Batwoman', 'Batman']"
      ]
     },
     "execution_count": 8,
     "metadata": {},
     "output_type": "execute_result"
    }
   ],
   "source": [
    "string = \"Batwoman and Batman\"\n",
    "\n",
    "result = re.findall('Batw?o?man',string)\n",
    "result"
   ]
  },
  {
   "cell_type": "raw",
   "id": "steady-serbia",
   "metadata": {},
   "source": [
    "* >> zero or more\n",
    "+ >> one  or more\n",
    "? >> zero or one\n",
    ". >> any char except newline"
   ]
  },
  {
   "cell_type": "code",
   "execution_count": 10,
   "id": "congressional-presence",
   "metadata": {},
   "outputs": [
    {
     "data": {
      "text/plain": [
       "['123-345-5678']"
      ]
     },
     "execution_count": 10,
     "metadata": {},
     "output_type": "execute_result"
    }
   ],
   "source": [
    "string = '123-345-5678'\n",
    "\n",
    "result = re.findall('\\d{3}[-]\\d{3}[-]\\d{4}',string)\n",
    "result"
   ]
  },
  {
   "cell_type": "code",
   "execution_count": 13,
   "id": "imperial-remove",
   "metadata": {},
   "outputs": [
    {
     "data": {
      "text/plain": [
       "['----345-5678']"
      ]
     },
     "execution_count": 13,
     "metadata": {},
     "output_type": "execute_result"
    }
   ],
   "source": [
    "string = '----345-5678'\n",
    "\n",
    "result = re.findall('[\\d-]{12}',string)\n",
    "result"
   ]
  },
  {
   "cell_type": "code",
   "execution_count": 16,
   "id": "concrete-sewing",
   "metadata": {},
   "outputs": [
    {
     "data": {
      "text/plain": [
       "['24-06-2021']"
      ]
     },
     "execution_count": 16,
     "metadata": {},
     "output_type": "execute_result"
    }
   ],
   "source": [
    "string = '24-06-2021'\n",
    "# 1950 - 2021  >> \n",
    "result = re.findall('[0-3][0-9][-][01][0-9][-][1-2][09]\\d{2}',string)\n",
    "result"
   ]
  },
  {
   "cell_type": "code",
   "execution_count": 20,
   "id": "north-proposition",
   "metadata": {},
   "outputs": [
    {
     "data": {
      "text/plain": [
       "[]"
      ]
     },
     "execution_count": 20,
     "metadata": {},
     "output_type": "execute_result"
    }
   ],
   "source": [
    "string = '24-06-3021'\n",
    "result = re.findall('[0-3]\\d[-][01]\\d[-][1-2][09]\\d{2}',string)\n",
    "result"
   ]
  },
  {
   "cell_type": "code",
   "execution_count": null,
   "id": "2abb28bc",
   "metadata": {},
   "outputs": [],
   "source": [
    "st = '24-07-1905'"
   ]
  },
  {
   "cell_type": "code",
   "execution_count": null,
   "id": "65373c47",
   "metadata": {},
   "outputs": [],
   "source": []
  },
  {
   "cell_type": "code",
   "execution_count": null,
   "id": "north-production",
   "metadata": {},
   "outputs": [],
   "source": [
    "string = '14-06-3021'\n",
    "result = re.findall('[0-3]\\d[-][01]\\d[-][1-2][09]\\d{2}',string)\n",
    "result"
   ]
  },
  {
   "cell_type": "markdown",
   "id": "chubby-atlas",
   "metadata": {},
   "source": [
    "# compile"
   ]
  },
  {
   "cell_type": "raw",
   "id": "russian-interstate",
   "metadata": {},
   "source": [
    "To convert pattern into object\n",
    "\n",
    "To avoid rewritting of patterns"
   ]
  },
  {
   "cell_type": "code",
   "execution_count": 3,
   "id": "independent-commerce",
   "metadata": {},
   "outputs": [
    {
     "data": {
      "text/plain": [
       "'14-06-2021'"
      ]
     },
     "execution_count": 3,
     "metadata": {},
     "output_type": "execute_result"
    }
   ],
   "source": [
    "string = '14-06-2021'\n",
    "pattern = re.compile('[0-3]\\d[-][01]\\d[-][1-2][09]\\d{2}')\n",
    "result = pattern.search(string)\n",
    "result.group()"
   ]
  },
  {
   "cell_type": "code",
   "execution_count": 4,
   "id": "eff4d634",
   "metadata": {},
   "outputs": [
    {
     "data": {
      "text/plain": [
       "'14-06-1950'"
      ]
     },
     "execution_count": 4,
     "metadata": {},
     "output_type": "execute_result"
    }
   ],
   "source": [
    "string = '14-06-1950'\n",
    "pattern = re.compile('[0-3]\\d[-][01]\\d[-][1-2][09]\\d{2}')\n",
    "result = pattern.search(string)\n",
    "result.group()"
   ]
  },
  {
   "cell_type": "code",
   "execution_count": 28,
   "id": "adaptive-manual",
   "metadata": {},
   "outputs": [
    {
     "data": {
      "text/plain": [
       "['20-01-2020']"
      ]
     },
     "execution_count": 28,
     "metadata": {},
     "output_type": "execute_result"
    }
   ],
   "source": [
    "result = pattern.findall('20-01-2020')\n",
    "result"
   ]
  },
  {
   "cell_type": "code",
   "execution_count": 77,
   "id": "burning-youth",
   "metadata": {},
   "outputs": [
    {
     "name": "stdout",
     "output_type": "stream",
     "text": [
      "123-345-5678\n",
      "345-5278\n",
      "444-5678\n",
      "223-345-5678\n",
      "234-345-5678\n"
     ]
    }
   ],
   "source": [
    "string1 = '123-345-5678'\n",
    "string2 = '345-5278'\n",
    "string3 = '444-5678'\n",
    "string4= '223-345-5678'\n",
    "string5= '2234-345-5678'\n",
    "\n",
    "pattern = re.compile('(\\d{3}-)?\\d{3}-\\d{4}')\n",
    "\n",
    "result1 = pattern.search(string1)\n",
    "print(result1.group())\n",
    "\n",
    "result2 = pattern.search(string2)\n",
    "print(result2.group())\n",
    "\n",
    "result3 = pattern.search(string3)\n",
    "print(result3.group())\n",
    "\n",
    "result4 = pattern.search(string4)\n",
    "print(result4.group())\n",
    "\n",
    "result5 = pattern.search(string5)\n",
    "print(result5.group())"
   ]
  },
  {
   "cell_type": "code",
   "execution_count": null,
   "id": "eight-westminster",
   "metadata": {},
   "outputs": [],
   "source": [
    "* >> zero or more\n",
    "+ >> one  or more\n",
    "? >> zero or one\n",
    ". >> any char except newline"
   ]
  },
  {
   "cell_type": "code",
   "execution_count": 50,
   "id": "better-composer",
   "metadata": {},
   "outputs": [
    {
     "data": {
      "text/plain": [
       "['python', 'python']"
      ]
     },
     "execution_count": 50,
     "metadata": {},
     "output_type": "execute_result"
    }
   ],
   "source": [
    "string = 'python class python'\n",
    "\n",
    "result = re.findall('python',string)\n",
    "result"
   ]
  },
  {
   "cell_type": "code",
   "execution_count": 54,
   "id": "nutritional-tragedy",
   "metadata": {},
   "outputs": [
    {
     "data": {
      "text/plain": [
       "['pythonnnnnn', 'pytho']"
      ]
     },
     "execution_count": 54,
     "metadata": {},
     "output_type": "execute_result"
    }
   ],
   "source": [
    "string = 'pythonnnnnn class pytho'\n",
    "\n",
    "result = re.findall('python*',string)\n",
    "result"
   ]
  },
  {
   "cell_type": "code",
   "execution_count": 59,
   "id": "external-employer",
   "metadata": {},
   "outputs": [
    {
     "data": {
      "text/plain": [
       "['python', 'pyhon']"
      ]
     },
     "execution_count": 59,
     "metadata": {},
     "output_type": "execute_result"
    }
   ],
   "source": [
    "string = 'pythonnnnnn class pyhon'\n",
    "\n",
    "result = re.findall('pyt?hon',string)\n",
    "result"
   ]
  },
  {
   "cell_type": "code",
   "execution_count": 62,
   "id": "personalized-korean",
   "metadata": {},
   "outputs": [
    {
     "data": {
      "text/plain": [
       "['Batwoman', 'Batman']"
      ]
     },
     "execution_count": 62,
     "metadata": {},
     "output_type": "execute_result"
    }
   ],
   "source": [
    "string = \"Batwoman and Batman\"\n",
    "\n",
    "result = re.findall('Batw?o?man',string)\n",
    "result"
   ]
  },
  {
   "cell_type": "code",
   "execution_count": 1,
   "id": "informed-resource",
   "metadata": {},
   "outputs": [
    {
     "ename": "NameError",
     "evalue": "name 're' is not defined",
     "output_type": "error",
     "traceback": [
      "\u001b[1;31m---------------------------------------------------------------------------\u001b[0m",
      "\u001b[1;31mNameError\u001b[0m                                 Traceback (most recent call last)",
      "\u001b[1;32m<ipython-input-1-2d8d1bb6428a>\u001b[0m in \u001b[0;36m<module>\u001b[1;34m\u001b[0m\n\u001b[0;32m      1\u001b[0m \u001b[0mstring\u001b[0m \u001b[1;33m=\u001b[0m \u001b[1;34m\"Batwoman and Batman\"\u001b[0m\u001b[1;33m\u001b[0m\u001b[1;33m\u001b[0m\u001b[0m\n\u001b[1;32m----> 2\u001b[1;33m \u001b[0mpattern\u001b[0m \u001b[1;33m=\u001b[0m \u001b[0mre\u001b[0m\u001b[1;33m.\u001b[0m\u001b[0mcompile\u001b[0m\u001b[1;33m(\u001b[0m\u001b[1;34m'Bat(wo)?man'\u001b[0m\u001b[1;33m)\u001b[0m\u001b[1;33m\u001b[0m\u001b[1;33m\u001b[0m\u001b[0m\n\u001b[0m\u001b[0;32m      3\u001b[0m \u001b[0mresult\u001b[0m \u001b[1;33m=\u001b[0m \u001b[0mpattern\u001b[0m\u001b[1;33m.\u001b[0m\u001b[0msearch\u001b[0m\u001b[1;33m(\u001b[0m\u001b[0mstring\u001b[0m\u001b[1;33m)\u001b[0m\u001b[1;33m\u001b[0m\u001b[1;33m\u001b[0m\u001b[0m\n\u001b[0;32m      4\u001b[0m \u001b[0mresult\u001b[0m\u001b[1;33m.\u001b[0m\u001b[0mgroup\u001b[0m\u001b[1;33m(\u001b[0m\u001b[1;33m)\u001b[0m\u001b[1;33m\u001b[0m\u001b[1;33m\u001b[0m\u001b[0m\n",
      "\u001b[1;31mNameError\u001b[0m: name 're' is not defined"
     ]
    }
   ],
   "source": [
    "string = \"Batwoman and Batman\"\n",
    "pattern = re.compile('Bat(wo)?man')\n",
    "result = pattern.search(string)\n",
    "result.group()"
   ]
  },
  {
   "cell_type": "code",
   "execution_count": 69,
   "id": "congressional-concrete",
   "metadata": {},
   "outputs": [
    {
     "data": {
      "text/plain": [
       "['wo', '']"
      ]
     },
     "execution_count": 69,
     "metadata": {},
     "output_type": "execute_result"
    }
   ],
   "source": [
    "string = \"Batwoman and Batman\"\n",
    "pattern = re.compile('Bat(wo)?man')\n",
    "result = pattern.findall(string)\n",
    "result"
   ]
  },
  {
   "cell_type": "code",
   "execution_count": null,
   "id": "passing-forward",
   "metadata": {},
   "outputs": [],
   "source": []
  },
  {
   "cell_type": "code",
   "execution_count": 46,
   "id": "interesting-fitting",
   "metadata": {},
   "outputs": [
    {
     "data": {
      "text/plain": [
       "'pythhhhhhon class pytooon '"
      ]
     },
     "execution_count": 46,
     "metadata": {},
     "output_type": "execute_result"
    }
   ],
   "source": [
    "string = 'pythhhhhhon          class                pytooon '\n",
    "\n",
    "result = re.sub('\\s+',' ',string)\n",
    "result"
   ]
  }
 ],
 "metadata": {
  "kernelspec": {
   "display_name": "Python 3",
   "language": "python",
   "name": "python3"
  },
  "language_info": {
   "codemirror_mode": {
    "name": "ipython",
    "version": 3
   },
   "file_extension": ".py",
   "mimetype": "text/x-python",
   "name": "python",
   "nbconvert_exporter": "python",
   "pygments_lexer": "ipython3",
   "version": "3.8.8"
  }
 },
 "nbformat": 4,
 "nbformat_minor": 5
}
