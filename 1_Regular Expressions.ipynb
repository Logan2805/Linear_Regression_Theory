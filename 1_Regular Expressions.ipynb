{
 "cells": [
  {
   "cell_type": "code",
   "execution_count": null,
   "id": "directed-fitness",
   "metadata": {
    "id": "directed-fitness"
   },
   "outputs": [],
   "source": [
    "Natural Language Processing\n",
    "Text Processing\n",
    "Text Mining>> It is the process transformining Unstructured Data to Structured Data\n",
    " \n",
    "UnStructured Data (80 %) >> Audio, Videos, Images \n",
    "Structured Data (20%) >> CSV, Excel, Rows and Columns\n",
    " \n",
    "Bank Statement Text >> \n",
    "Account Number >> 1234567891234   >> 13 digits\n",
    "IFSC  >> SBIN0000123\n",
    "Emailid >> myemailid@gmail.com\n",
    "Mobile Number >> 9876543212\n",
    "Address >> \n",
    "PINCODE >> 411052"
   ]
  },
  {
   "cell_type": "code",
   "execution_count": null,
   "id": "listed-links",
   "metadata": {
    "id": "listed-links"
   },
   "outputs": [],
   "source": [
    "Regular Expression >> It is the sequence of characters used to check whether a pattern exist\n",
    "in given text(string) or not "
   ]
  },
  {
   "cell_type": "raw",
   "id": "international-speaking",
   "metadata": {
    "id": "international-speaking"
   },
   "source": [
    "import re  # regular expressions\n",
    "# dir(re)\n",
    "1. findall\n",
    "2. sub\n",
    "3. search\n",
    "4. match\n",
    "5. split"
   ]
  },
  {
   "cell_type": "markdown",
   "id": "governing-limit",
   "metadata": {
    "id": "governing-limit"
   },
   "source": [
    "# 1. findall "
   ]
  },
  {
   "cell_type": "raw",
   "id": "hungry-activation",
   "metadata": {
    "id": "hungry-activation"
   },
   "source": [
    "# Return a list containing Matches\n",
    "re.findall(pattern, text)"
   ]
  },
  {
   "cell_type": "code",
   "execution_count": null,
   "id": "based-lafayette",
   "metadata": {
    "id": "based-lafayette"
   },
   "outputs": [],
   "source": [
    "# Extract Mobile Number and Mail id from string"
   ]
  },
  {
   "cell_type": "code",
   "execution_count": 1,
   "id": "sophisticated-lawsuit",
   "metadata": {
    "id": "sophisticated-lawsuit",
    "outputId": "bfd27840-9f5e-45e9-8771-f0b0422da883"
   },
   "outputs": [
    {
     "data": {
      "text/plain": [
       "['9404283030', '9404282020']"
      ]
     },
     "execution_count": 1,
     "metadata": {},
     "output_type": "execute_result"
    }
   ],
   "source": [
    "import re\n",
    "text = \"\"\"My name is Rahul Kendre, My mobile Number is 9404283030\n",
    "        email id is rahulkendre@gmail.com \n",
    "        hr@techmahindra.com\n",
    "        9404282020 \n",
    "        22/06/2021 5/06/2021\n",
    "        \"\"\"\n",
    "\n",
    "mobile_num = re.findall('[0-9]{10}',text)\n",
    "mobile_num"
   ]
  },
  {
   "cell_type": "code",
   "execution_count": null,
   "id": "hazardous-accountability",
   "metadata": {
    "id": "hazardous-accountability",
    "outputId": "a7a98faf-159d-4ca0-9464-56fc1a08e809"
   },
   "outputs": [
    {
     "data": {
      "text/plain": [
       "['rahulkendre@gmail.com', 'hr@techmahindra.com']"
      ]
     },
     "execution_count": 30,
     "metadata": {
      "tags": []
     },
     "output_type": "execute_result"
    }
   ],
   "source": [
    "email_id = re.findall('[a-z]{2,15}[@][a-z.]{5,20}',text)\n",
    "email_id"
   ]
  },
  {
   "cell_type": "code",
   "execution_count": null,
   "id": "intense-fence",
   "metadata": {
    "id": "intense-fence",
    "outputId": "c637b4db-c486-4ddb-e6f9-15d9d6f071c0"
   },
   "outputs": [
    {
     "data": {
      "text/plain": [
       "['22/06/2021', '5/06/2021']"
      ]
     },
     "execution_count": 34,
     "metadata": {
      "tags": []
     },
     "output_type": "execute_result"
    }
   ],
   "source": [
    "date = re.findall('[0-9]{1,2}[/][0-9]{2}[/][0-9]{4}',text)\n",
    "date"
   ]
  },
  {
   "cell_type": "code",
   "execution_count": null,
   "id": "productive-water",
   "metadata": {
    "id": "productive-water"
   },
   "outputs": [],
   "source": []
  },
  {
   "cell_type": "raw",
   "id": "operational-dating",
   "metadata": {
    "id": "operational-dating"
   },
   "source": [
    "[] >> A set of character \n",
    "[0-9]\n",
    "[a-z]\n",
    "[A-Z]\n",
    "[0-9a-zA-Z]\n",
    "\n",
    "{} >> Number of occurences"
   ]
  },
  {
   "cell_type": "markdown",
   "id": "accurate-absence",
   "metadata": {
    "id": "accurate-absence"
   },
   "source": [
    "### Extract Mail id's from given text"
   ]
  },
  {
   "cell_type": "code",
   "execution_count": 2,
   "id": "productive-address",
   "metadata": {
    "id": "productive-address",
    "outputId": "67f73824-3a24-4833-dcf9-b6ec2807409a"
   },
   "outputs": [
    {
     "data": {
      "text/plain": [
       "['rahulkendre@gmail.com',\n",
       " 'rahulkendre@gmail.co.in',\n",
       " 'rahulkendre@edu.co.in',\n",
       " 'rahulkendre@rediffmail.com',\n",
       " 'rahulkendre123@rediffmail.com',\n",
       " 'rahul_kendre@rediffmail.com',\n",
       " 'rahul_kendre123@rediffmail.com',\n",
       " 'rahul.kendre123@rediffmail.com',\n",
       " 'rahul.kendre@rediffmail.com']"
      ]
     },
     "execution_count": 2,
     "metadata": {},
     "output_type": "execute_result"
    }
   ],
   "source": [
    "text = \"\"\"\n",
    "rahulkendre@gmail.com\n",
    "rahulkendre@gmail.co.in\n",
    "rahulkendre@edu.co.in\n",
    "rahulkendre@rediffmail.com\n",
    "rahulkendre123@rediffmail.com\n",
    "rahul_kendre@rediffmail.com\n",
    "rahul_kendre123@rediffmail.com\n",
    "rahul.kendre123@rediffmail.com\n",
    "rahul.kendre@rediffmail.com\n",
    "\"\"\"\n",
    "\n",
    "email_id = re.findall('[a-z0-9_.]{2,20}[@][a-z.]{5,15}',text)\n",
    "# print(f\"Email ID:{email_id}\")\n",
    "email_id"
   ]
  },
  {
   "cell_type": "code",
   "execution_count": null,
   "id": "hired-sally",
   "metadata": {
    "id": "hired-sally",
    "outputId": "1329ecc4-d782-4f3a-bb5f-a55550843828"
   },
   "outputs": [
    {
     "data": {
      "text/plain": [
       "['rahulkendre@gmail.com',\n",
       " 'rahulkendre@gmail.co.in',\n",
       " 'rahulkendre@edu.co.in',\n",
       " 'rahulkendre@rediffmail.com',\n",
       " 'rahulkendre123@rediffmail.com',\n",
       " 'rahul_kendre@rediffmail.com',\n",
       " 'rahul_kendre123@rediffmail.com',\n",
       " 'rahul.kendre123@rediffmail.com',\n",
       " 'rahul.kendre@rediffmail.com']"
      ]
     },
     "execution_count": 43,
     "metadata": {
      "tags": []
     },
     "output_type": "execute_result"
    }
   ],
   "source": [
    "email = re.findall('[a-z0-9_.]{2,20}[@][a-z.]{2,20}',text)\n",
    "email"
   ]
  },
  {
   "cell_type": "code",
   "execution_count": null,
   "id": "emerging-bible",
   "metadata": {
    "id": "emerging-bible",
    "outputId": "8c9f3fe4-08cb-4530-97cf-c491ff583a61"
   },
   "outputs": [
    {
     "data": {
      "text/plain": [
       "['rahulsgayke@gmail.com',\n",
       " 'rahuls.gayke@gmail.com',\n",
       " 'rahuls_gayke@gmail.com',\n",
       " 'rahulsgayke123@gmail.com',\n",
       " 'rahuls_gayke123@gmail.com',\n",
       " 'rahulsgayke@rediffmail.com',\n",
       " 'rahulsgayke@edu.co.in',\n",
       " 'rahulsgayke@gmail.co.in']"
      ]
     },
     "execution_count": 192,
     "metadata": {
      "tags": []
     },
     "output_type": "execute_result"
    }
   ],
   "source": [
    "text = \"\"\"rahulsgayke@gmail.com, rahuls.gayke@gmail.com, rahuls_gayke@gmail.com\n",
    "        rahulsgayke123@gmail.com, rahuls_gayke123@gmail.com, rahulsgayke@rediffmail.com,\n",
    "        rahulsgayke@edu.co.in,\n",
    "        rahulsgayke@gmail.co.in\"\"\"\n",
    "\n",
    "# mail_ids = re.findall('[a-z._0-9]{2,20}[@][a-z.]{2,15}', text)\n",
    "mail_ids = re.findall('[\\w._]{2,20}[@][a-z.]{2,15}', text)\n",
    "\n",
    "mail_ids"
   ]
  },
  {
   "cell_type": "markdown",
   "id": "possible-ethiopia",
   "metadata": {
    "id": "possible-ethiopia"
   },
   "source": [
    "# Special Sequences"
   ]
  },
  {
   "cell_type": "markdown",
   "id": "juvenile-performance",
   "metadata": {
    "id": "juvenile-performance"
   },
   "source": [
    "## 1. \\d"
   ]
  },
  {
   "cell_type": "raw",
   "id": "usual-county",
   "metadata": {
    "id": "usual-county"
   },
   "source": [
    "\\d >> [0-9]"
   ]
  },
  {
   "cell_type": "code",
   "execution_count": null,
   "id": "absolute-eagle",
   "metadata": {
    "id": "absolute-eagle",
    "outputId": "4ca0323e-c143-4adb-de72-ab311a399ddb"
   },
   "outputs": [
    {
     "data": {
      "text/plain": [
       "['9404283030', '9404282020']"
      ]
     },
     "execution_count": 77,
     "metadata": {
      "tags": []
     },
     "output_type": "execute_result"
    }
   ],
   "source": [
    "\n",
    "text = \"\"\"account holder name:  Rahul Kendre, \n",
    "        My mobile Number is 9404283030\n",
    "        email id is rahulkendre@gmail.com \n",
    "        hr@techmahindra.com 9404282020\n",
    "        22/06/2021 22-06-2021 \n",
    "        \"\"\"\n",
    "\n",
    "mobile_num = re.findall('[0-9]{10}',text)\n",
    "mobile_num"
   ]
  },
  {
   "cell_type": "code",
   "execution_count": null,
   "id": "statistical-increase",
   "metadata": {
    "id": "statistical-increase",
    "outputId": "64a723fa-573e-4e0f-a43e-f4329e4cc1c9"
   },
   "outputs": [
    {
     "data": {
      "text/plain": [
       "['Rahul',\n",
       " 'Kendre',\n",
       " 'mobile',\n",
       " 'Number',\n",
       " 'email',\n",
       " 'rahulkendr',\n",
       " 'gmail',\n",
       " 'techmahind']"
      ]
     },
     "execution_count": 78,
     "metadata": {
      "tags": []
     },
     "output_type": "execute_result"
    }
   ],
   "source": [
    "name = re.findall('[a-zA-Z]{5,10}',text)\n",
    "name"
   ]
  },
  {
   "cell_type": "code",
   "execution_count": null,
   "id": "neural-roulette",
   "metadata": {
    "id": "neural-roulette",
    "outputId": "a8b401c0-5c7a-4cf0-ea3d-729adc77dce6"
   },
   "outputs": [
    {
     "data": {
      "text/plain": [
       "['9404283030', '9404282020']"
      ]
     },
     "execution_count": 71,
     "metadata": {
      "tags": []
     },
     "output_type": "execute_result"
    }
   ],
   "source": [
    "mobile_num = re.findall('\\d{10}',text)\n",
    "mobile_num"
   ]
  },
  {
   "cell_type": "code",
   "execution_count": null,
   "id": "automatic-festival",
   "metadata": {
    "id": "automatic-festival",
    "outputId": "6a17e2f8-f72a-4bea-d956-177ab2e7c395"
   },
   "outputs": [
    {
     "data": {
      "text/plain": [
       "['94042', '83030', '94042', '82020']"
      ]
     },
     "execution_count": 72,
     "metadata": {
      "tags": []
     },
     "output_type": "execute_result"
    }
   ],
   "source": [
    "mobile_num = re.findall('\\d{5}',text)\n",
    "mobile_num"
   ]
  },
  {
   "cell_type": "code",
   "execution_count": null,
   "id": "hungarian-preference",
   "metadata": {
    "id": "hungarian-preference"
   },
   "outputs": [],
   "source": [
    "mobile_num = re.findall('\\d',text)\n",
    "# mobile_num"
   ]
  },
  {
   "cell_type": "code",
   "execution_count": null,
   "id": "accessible-indonesian",
   "metadata": {
    "id": "accessible-indonesian",
    "outputId": "ecd5b86d-b972-4917-c2ab-eeb7f8ae2ad3"
   },
   "outputs": [
    {
     "data": {
      "text/plain": [
       "['22/06/2021']"
      ]
     },
     "execution_count": 74,
     "metadata": {
      "tags": []
     },
     "output_type": "execute_result"
    }
   ],
   "source": [
    "date = re.findall('[0-9]{2}[/][0-9]{2}[/][0-9]{4}',text)\n",
    "date"
   ]
  },
  {
   "cell_type": "code",
   "execution_count": null,
   "id": "initial-hopkins",
   "metadata": {
    "id": "initial-hopkins",
    "outputId": "59aa1a59-9bb5-4e7c-995f-853ede3d92dd"
   },
   "outputs": [
    {
     "data": {
      "text/plain": [
       "['22/06/2021', '22-06-2021']"
      ]
     },
     "execution_count": 75,
     "metadata": {
      "tags": []
     },
     "output_type": "execute_result"
    }
   ],
   "source": [
    "date = re.findall('\\d{2}[/-]\\d{2}[/-][0-9]{4}',text)\n",
    "date"
   ]
  },
  {
   "cell_type": "code",
   "execution_count": null,
   "id": "italian-harmony",
   "metadata": {
    "id": "italian-harmony",
    "outputId": "0fa260ce-64f1-40f0-d3ea-000836342d76"
   },
   "outputs": [
    {
     "data": {
      "text/plain": [
       "['22/06/2021']"
      ]
     },
     "execution_count": 76,
     "metadata": {
      "tags": []
     },
     "output_type": "execute_result"
    }
   ],
   "source": [
    "date = re.findall('\\d{2}[/]\\d{2}[/]\\d{4}',text)\n",
    "date"
   ]
  },
  {
   "cell_type": "code",
   "execution_count": null,
   "id": "palestinian-deposit",
   "metadata": {
    "id": "palestinian-deposit",
    "outputId": "af7142c4-fe96-4aac-820e-06b703a7cdb2"
   },
   "outputs": [
    {
     "data": {
      "text/plain": [
       "['ac holder name:  Rahul Kendre,',\n",
       " '        account holder name:  RAHUL KENDRE',\n",
       " '        My mobile Number is 9404283030',\n",
       " '        email id is rahulkendre@gmail.com ',\n",
       " '        hr@techmahindra.com 9404282020',\n",
       " '        22/06/2021 22-06-2021 ',\n",
       " '        ']"
      ]
     },
     "execution_count": 91,
     "metadata": {
      "tags": []
     },
     "output_type": "execute_result"
    }
   ],
   "source": [
    "text = \"\"\"ac holder name:  Rahul Kendre,\n",
    "        account holder name:  RAHUL KENDRE\n",
    "        My mobile Number is 9404283030\n",
    "        email id is rahulkendre@gmail.com \n",
    "        hr@techmahindra.com 9404282020\n",
    "        22/06/2021 22-06-2021 \n",
    "        \"\"\"\n",
    "\n",
    "text_list = text.split('\\n')\n",
    "text_list"
   ]
  },
  {
   "cell_type": "code",
   "execution_count": null,
   "id": "smart-beauty",
   "metadata": {
    "id": "smart-beauty",
    "outputId": "5b369ef7-0e52-4df1-8f26-bcf5cc496200"
   },
   "outputs": [
    {
     "name": "stdout",
     "output_type": "stream",
     "text": [
      "Person Name is :  []\n",
      "Person Name is :  ['RAHUL KENDRE']\n"
     ]
    }
   ],
   "source": [
    "for line in text_list:\n",
    "#     print(line)\n",
    "    if 'account holder name' in line or 'ac holder name' in line:\n",
    "        person_name = re.findall('[A-Z]{4,10}[ ][A-Z]{4,10}',line)\n",
    "        print('Person Name is : ',person_name)\n",
    "        "
   ]
  },
  {
   "cell_type": "markdown",
   "id": "basic-beatles",
   "metadata": {
    "id": "basic-beatles"
   },
   "source": [
    "## 2. \\D"
   ]
  },
  {
   "cell_type": "raw",
   "id": "white-there",
   "metadata": {
    "id": "white-there"
   },
   "source": [
    " \\D >> [^0-9]  >> Return other than digits"
   ]
  },
  {
   "cell_type": "code",
   "execution_count": null,
   "id": "taken-discharge",
   "metadata": {
    "id": "taken-discharge",
    "outputId": "a53447f7-f62a-4987-9ad9-c12b5106631b"
   },
   "outputs": [
    {
     "name": "stdout",
     "output_type": "stream",
     "text": [
      "['account ho', 'lder name:', '  Rahul Ke', 'ndre,\\n    ', '    My mob', 'ile Number', '\\n        e', 'mail id is', ' rahulkend', 're@gmail.c', 'om \\n      ', '  hr@techm', 'ahindra.co', ' \\n        ']\n"
     ]
    }
   ],
   "source": [
    "text = \"\"\"account holder name:  Rahul Kendre,\n",
    "        My mobile Number is 9404283030\n",
    "        email id is rahulkendre@gmail.com \n",
    "        hr@techmahindra.com 9404282020\n",
    "        22/06/2021 22-06-2021 \n",
    "        \"\"\"\n",
    "except_digits = re.findall('\\D{10}',text)\n",
    "print(except_digits)"
   ]
  },
  {
   "cell_type": "markdown",
   "id": "necessary-lemon",
   "metadata": {
    "id": "necessary-lemon"
   },
   "source": [
    "# 3. \\s "
   ]
  },
  {
   "cell_type": "raw",
   "id": "russian-inclusion",
   "metadata": {
    "id": "russian-inclusion"
   },
   "source": [
    "\\s >> Return string contain a white space"
   ]
  },
  {
   "cell_type": "code",
   "execution_count": null,
   "id": "popular-reception",
   "metadata": {
    "id": "popular-reception",
    "outputId": "22e0ec27-9aca-4e3d-d964-da471f8c229c"
   },
   "outputs": [
    {
     "data": {
      "text/plain": [
       "[' ', ' ', ' ', ' ', ' ']"
      ]
     },
     "execution_count": 101,
     "metadata": {
      "tags": []
     },
     "output_type": "execute_result"
    }
   ],
   "source": [
    "text = \"\"\"account holder name:  Rahul Kendre\"\"\"\n",
    "space = re.findall('[ ]',text)\n",
    "space"
   ]
  },
  {
   "cell_type": "code",
   "execution_count": null,
   "id": "radical-equivalent",
   "metadata": {
    "id": "radical-equivalent",
    "outputId": "fb575472-1eda-4074-e3a9-7712efacd3c8"
   },
   "outputs": [
    {
     "data": {
      "text/plain": [
       "[' ', ' ', ' ', ' ', ' ']"
      ]
     },
     "execution_count": 103,
     "metadata": {
      "tags": []
     },
     "output_type": "execute_result"
    }
   ],
   "source": [
    "space = re.findall('\\s',text)\n",
    "space"
   ]
  },
  {
   "cell_type": "code",
   "execution_count": null,
   "id": "prescription-reply",
   "metadata": {
    "id": "prescription-reply",
    "outputId": "8f3ba7e8-a637-4020-a624-22d080d3323f"
   },
   "outputs": [
    {
     "data": {
      "text/plain": [
       "['      ']"
      ]
     },
     "execution_count": 109,
     "metadata": {
      "tags": []
     },
     "output_type": "execute_result"
    }
   ],
   "source": [
    "text = \"\"\"account holder name:      Rahul Kendre\"\"\"\n",
    "space = re.findall('\\s{6}',text)\n",
    "space"
   ]
  },
  {
   "cell_type": "markdown",
   "id": "private-massachusetts",
   "metadata": {
    "id": "private-massachusetts"
   },
   "source": [
    "# 4. \\S  "
   ]
  },
  {
   "cell_type": "raw",
   "id": "graduate-values",
   "metadata": {
    "id": "graduate-values"
   },
   "source": [
    " \\S  >> [ ] >> Except space"
   ]
  },
  {
   "cell_type": "code",
   "execution_count": null,
   "id": "accessory-croatia",
   "metadata": {
    "id": "accessory-croatia",
    "outputId": "89395de7-8799-46ce-dc79-fd5870ee3e36"
   },
   "outputs": [
    {
     "name": "stdout",
     "output_type": "stream",
     "text": [
      "['account', '1234456', '####@$2']\n"
     ]
    }
   ],
   "source": [
    "text = \"\"\"account holder name:      Rahul Kendre 1234456 ####@$2\"\"\"\n",
    "space = re.findall('\\S{7}',text)\n",
    "print(space)"
   ]
  },
  {
   "cell_type": "markdown",
   "id": "hearing-wealth",
   "metadata": {
    "id": "hearing-wealth"
   },
   "source": [
    "# 5. \\w "
   ]
  },
  {
   "cell_type": "raw",
   "id": "secondary-somerset",
   "metadata": {
    "id": "secondary-somerset"
   },
   "source": [
    " \\w >>  [a-zA-Z0-9]"
   ]
  },
  {
   "cell_type": "code",
   "execution_count": null,
   "id": "chubby-sierra",
   "metadata": {
    "id": "chubby-sierra",
    "outputId": "43ca9e6d-3375-4f2d-f14a-9ad4f4966874"
   },
   "outputs": [
    {
     "data": {
      "text/plain": [
       "['account', 'holder', '123456', 'Velocity', 'Training', 'Center1234']"
      ]
     },
     "execution_count": 197,
     "metadata": {
      "tags": []
     },
     "output_type": "execute_result"
    }
   ],
   "source": [
    "text = \"\"\"account holder name: 123456 Velocity Training Center1234 \"\"\"\n",
    "words = re.findall('[a-zA-Z0-9]{5,10}',text)\n",
    "words"
   ]
  },
  {
   "cell_type": "code",
   "execution_count": null,
   "id": "russian-discretion",
   "metadata": {
    "id": "russian-discretion",
    "outputId": "d2f3b768-e71a-4e1b-8b54-a0b6e705b511"
   },
   "outputs": [
    {
     "data": {
      "text/plain": [
       "['account', 'holder', '123456', 'Velocity', 'Training', 'Center1234']"
      ]
     },
     "execution_count": 127,
     "metadata": {
      "tags": []
     },
     "output_type": "execute_result"
    }
   ],
   "source": [
    "text = \"\"\"account holder name: 123456 Velocity Training Center1234 \"\"\"\n",
    "words = re.findall('\\w{5,10}',text)\n",
    "words"
   ]
  },
  {
   "cell_type": "markdown",
   "id": "plastic-sleeping",
   "metadata": {
    "id": "plastic-sleeping"
   },
   "source": [
    "# 6. \\W "
   ]
  },
  {
   "cell_type": "raw",
   "id": "working-audio",
   "metadata": {
    "id": "working-audio"
   },
   "source": [
    "\\w >> except [a-zA-Z0-9] ==  [^a-zA-Z0-9]"
   ]
  },
  {
   "cell_type": "code",
   "execution_count": null,
   "id": "compact-scanner",
   "metadata": {
    "id": "compact-scanner",
    "outputId": "77b51b87-7487-4c6e-f8c0-17a3be18f493"
   },
   "outputs": [
    {
     "data": {
      "text/plain": [
       "[]"
      ]
     },
     "execution_count": 130,
     "metadata": {
      "tags": []
     },
     "output_type": "execute_result"
    }
   ],
   "source": [
    "text = \"\"\"account holder name: 123456 Velocity Training Center1234 \"\"\"\n",
    "words = re.findall('\\W{5,10}',text)\n",
    "words"
   ]
  },
  {
   "cell_type": "code",
   "execution_count": 8,
   "id": "coated-private",
   "metadata": {
    "id": "coated-private",
    "outputId": "99b1bc31-cf50-4ade-8a81-494d8eecbb68"
   },
   "outputs": [
    {
     "data": {
      "text/plain": [
       "[': ', ' @', '# ']"
      ]
     },
     "execution_count": 8,
     "metadata": {},
     "output_type": "execute_result"
    }
   ],
   "source": [
    "text = \"\"\"account holder name: 123456123 Velocity Training Center1234 @# \"\"\"\n",
    "words = re.findall('\\W{2}',text)\n",
    "words"
   ]
  },
  {
   "cell_type": "code",
   "execution_count": null,
   "id": "peripheral-variance",
   "metadata": {
    "id": "peripheral-variance",
    "outputId": "456f0d1c-4981-4e53-e459-b7c07e322ce4"
   },
   "outputs": [
    {
     "data": {
      "text/plain": [
       "[': ', ' @', '# ']"
      ]
     },
     "execution_count": 201,
     "metadata": {
      "tags": []
     },
     "output_type": "execute_result"
    }
   ],
   "source": [
    "text = \"\"\"account holder name: 123456123 Velocity Training Center1234 @# \"\"\"\n",
    "words = re.findall('[^a-zA-Z0-9]{2}',text)\n",
    "words"
   ]
  },
  {
   "cell_type": "markdown",
   "id": "recognized-holiday",
   "metadata": {
    "id": "recognized-holiday"
   },
   "source": [
    "# 7. \\b "
   ]
  },
  {
   "cell_type": "raw",
   "id": "bound-wagon",
   "metadata": {
    "id": "bound-wagon"
   },
   "source": [
    "\\b >> Check for character at begining of word or end of word"
   ]
  },
  {
   "cell_type": "code",
   "execution_count": null,
   "id": "jewish-climb",
   "metadata": {
    "id": "jewish-climb",
    "outputId": "c4fde6b2-b921-4325-efe0-a689d271e9ee"
   },
   "outputs": [
    {
     "data": {
      "text/plain": [
       "['9404282020', '9404282020']"
      ]
     },
     "execution_count": 152,
     "metadata": {
      "tags": []
     },
     "output_type": "execute_result"
    }
   ],
   "source": [
    "text = \"\"\"account holder name: 94042820203030 9404282020 Velocity Training Center1234 @# \"\"\"\n",
    "\n",
    "numbers = re.findall(r'\\d{10}',text)\n",
    "numbers"
   ]
  },
  {
   "cell_type": "code",
   "execution_count": 10,
   "id": "cheap-theater",
   "metadata": {
    "id": "cheap-theater",
    "outputId": "7a2637c8-12f1-4a5b-e2ac-30c091d47ad1"
   },
   "outputs": [
    {
     "data": {
      "text/plain": [
       "['Velocity', 'Training']"
      ]
     },
     "execution_count": 10,
     "metadata": {},
     "output_type": "execute_result"
    }
   ],
   "source": [
    "text = \"\"\"accountqwerty holder name: 94042820203030 9404282020 Velocity Training Center1234 @# \"\"\"\n",
    "\n",
    "numbers = re.findall(r'\\b\\w{8}\\b',text)\n",
    "numbers"
   ]
  },
  {
   "cell_type": "code",
   "execution_count": null,
   "id": "transsexual-louis",
   "metadata": {
    "id": "transsexual-louis",
    "outputId": "09c27ab6-96c6-41eb-cae9-6b5e02d10e67"
   },
   "outputs": [
    {
     "data": {
      "text/plain": [
       "['accountq', '94042820', '94042820', 'Velocity', 'Training', 'Center12']"
      ]
     },
     "execution_count": 157,
     "metadata": {
      "tags": []
     },
     "output_type": "execute_result"
    }
   ],
   "source": [
    "text = \"\"\"accountqwerty holder name: 94042820203030 9404282020 Velocity Training Center1234 @# \"\"\"\n",
    "\n",
    "numbers = re.findall(r'\\w{8}',text)\n",
    "numbers"
   ]
  },
  {
   "cell_type": "code",
   "execution_count": null,
   "id": "choice-scanning",
   "metadata": {
    "id": "choice-scanning",
    "outputId": "7dee8900-530a-4d4c-dcf4-82a2e49af633"
   },
   "outputs": [
    {
     "data": {
      "text/plain": [
       "['Mobile']"
      ]
     },
     "execution_count": 164,
     "metadata": {
      "tags": []
     },
     "output_type": "execute_result"
    }
   ],
   "source": [
    "text = \"\"\" MyMobile number is 9404282020 \"\"\"\n",
    "\n",
    "numbers = re.findall(r'Mobile',text)\n",
    "numbers"
   ]
  },
  {
   "cell_type": "code",
   "execution_count": null,
   "id": "digital-stretch",
   "metadata": {
    "id": "digital-stretch",
    "outputId": "795af2c6-df8b-44c7-8e80-0145ec8eda49"
   },
   "outputs": [
    {
     "data": {
      "text/plain": [
       "['Mobile']"
      ]
     },
     "execution_count": 168,
     "metadata": {
      "tags": []
     },
     "output_type": "execute_result"
    }
   ],
   "source": [
    "text = \"\"\" My Mobilenumber is 9404282020 \"\"\"\n",
    "\n",
    "numbers = re.findall(r'\\bMobile',text)\n",
    "numbers"
   ]
  },
  {
   "cell_type": "code",
   "execution_count": 11,
   "id": "d0438ef8",
   "metadata": {},
   "outputs": [
    {
     "data": {
      "text/plain": [
       "['number']"
      ]
     },
     "execution_count": 11,
     "metadata": {},
     "output_type": "execute_result"
    }
   ],
   "source": [
    "text = \"\"\" My Mobilenumber is 9404282020 \"\"\"\n",
    "\n",
    "numbers = re.findall(r'number\\b',text)\n",
    "numbers"
   ]
  },
  {
   "cell_type": "code",
   "execution_count": null,
   "id": "south-south",
   "metadata": {
    "id": "south-south",
    "outputId": "f0c2644d-cf7f-4e1a-972c-970dbe2f584a"
   },
   "outputs": [
    {
     "data": {
      "text/plain": [
       "[]"
      ]
     },
     "execution_count": 170,
     "metadata": {
      "tags": []
     },
     "output_type": "execute_result"
    }
   ],
   "source": [
    "text = \"\"\" My Mobilenumber is 9404282020 \"\"\"\n",
    "\n",
    "numbers = re.findall(r'\\bMobile\\b',text)\n",
    "numbers"
   ]
  },
  {
   "cell_type": "code",
   "execution_count": null,
   "id": "adapted-democrat",
   "metadata": {
    "id": "adapted-democrat",
    "outputId": "3b1469f9-5d40-4b4b-84cb-d856acf646bb"
   },
   "outputs": [
    {
     "data": {
      "text/plain": [
       "['Mobile']"
      ]
     },
     "execution_count": 172,
     "metadata": {
      "tags": []
     },
     "output_type": "execute_result"
    }
   ],
   "source": [
    "text = \"\"\" My Mobile number is 9404282020 \"\"\"\n",
    "\n",
    "numbers = re.findall(r'\\bMobile\\b',text)\n",
    "numbers"
   ]
  },
  {
   "cell_type": "code",
   "execution_count": null,
   "id": "disturbed-ordinance",
   "metadata": {
    "id": "disturbed-ordinance",
    "outputId": "105df0b9-dd31-40b2-a1c1-557509db9b65"
   },
   "outputs": [
    {
     "data": {
      "text/plain": [
       "['Mobile', 'Number']"
      ]
     },
     "execution_count": 177,
     "metadata": {
      "tags": []
     },
     "output_type": "execute_result"
    }
   ],
   "source": [
    "text = \"\"\" My Mobile Number is 9404282020 \"\"\"\n",
    "\n",
    "numbers = re.findall(r'\\b[A-Z][a-z]{5}\\b',text)\n",
    "numbers"
   ]
  },
  {
   "cell_type": "code",
   "execution_count": null,
   "id": "593dff44",
   "metadata": {},
   "outputs": [],
   "source": []
  },
  {
   "cell_type": "code",
   "execution_count": null,
   "id": "lonely-mystery",
   "metadata": {
    "id": "lonely-mystery",
    "outputId": "ce14d77e-3c6e-48df-e613-b139a067f565"
   },
   "outputs": [
    {
     "data": {
      "text/plain": [
       "['Mobile', 'Number']"
      ]
     },
     "execution_count": 178,
     "metadata": {
      "tags": []
     },
     "output_type": "execute_result"
    }
   ],
   "source": [
    "text = \"\"\" My Mobile Number is 9404282020\n",
    "1234567890\n",
    "2345678901\n",
    "8765432134\n",
    "\"\"\"\n",
    "\n",
    "numbers = re.findall(r'\\b[A-Z][a-z]{5}\\b',text)\n",
    "numbers"
   ]
  },
  {
   "cell_type": "code",
   "execution_count": null,
   "id": "congressional-lighter",
   "metadata": {
    "id": "congressional-lighter",
    "outputId": "3f019af7-c728-43c3-82a8-00dc06839436"
   },
   "outputs": [
    {
     "data": {
      "text/plain": [
       "['9404282020', '8765432134']"
      ]
     },
     "execution_count": 188,
     "metadata": {
      "tags": []
     },
     "output_type": "execute_result"
    }
   ],
   "source": [
    "text = \"\"\" My Mobile Number is 9404282020\n",
    "94042820203456\n",
    "94042820201234\n",
    "1234567890\n",
    "2345678901\n",
    "8765432134\n",
    "\"\"\"\n",
    "\n",
    "numbers = re.findall(r'\\b[789]{1}\\d{9}\\b',text)\n",
    "numbers"
   ]
  },
  {
   "cell_type": "code",
   "execution_count": null,
   "id": "variable-antenna",
   "metadata": {
    "id": "variable-antenna",
    "outputId": "b25d0348-4fe1-4be0-da59-c142bea2d324"
   },
   "outputs": [
    {
     "data": {
      "text/plain": [
       "['QWERT1234P', 'QWERT1234P', 'ABCDE1234Q']"
      ]
     },
     "execution_count": 190,
     "metadata": {
      "tags": []
     },
     "output_type": "execute_result"
    }
   ],
   "source": [
    "text = \"\"\"QWERT1234P\n",
    "QWERT1234P\n",
    "QWERT12349\n",
    "QWER31234W\n",
    "ABCDE1234Q\n",
    "\"\"\"\n",
    "pan_number = re.findall('[A-Z]{5}\\d{4}[A-Z]',text)\n",
    "pan_number"
   ]
  },
  {
   "cell_type": "code",
   "execution_count": null,
   "id": "meaning-hungarian",
   "metadata": {
    "id": "meaning-hungarian"
   },
   "outputs": [],
   "source": []
  }
 ],
 "metadata": {
  "colab": {
   "name": "Regular Expressions.ipynb",
   "provenance": []
  },
  "kernelspec": {
   "display_name": "Python 3",
   "language": "python",
   "name": "python3"
  },
  "language_info": {
   "codemirror_mode": {
    "name": "ipython",
    "version": 3
   },
   "file_extension": ".py",
   "mimetype": "text/x-python",
   "name": "python",
   "nbconvert_exporter": "python",
   "pygments_lexer": "ipython3",
   "version": "3.8.8"
  }
 },
 "nbformat": 4,
 "nbformat_minor": 5
}
