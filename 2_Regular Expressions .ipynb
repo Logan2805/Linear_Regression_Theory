{
 "cells": [
  {
   "cell_type": "markdown",
   "id": "processed-webmaster",
   "metadata": {},
   "source": [
    "# Regular Expressions"
   ]
  },
  {
   "cell_type": "markdown",
   "id": "handmade-manufacturer",
   "metadata": {},
   "source": [
    "# 2. search "
   ]
  },
  {
   "cell_type": "code",
   "execution_count": null,
   "id": "massive-writing",
   "metadata": {},
   "outputs": [],
   "source": [
    "Searches for match, and returns object of first occurrence only"
   ]
  },
  {
   "cell_type": "code",
   "execution_count": 2,
   "id": "democratic-speaker",
   "metadata": {},
   "outputs": [
    {
     "data": {
      "text/plain": [
       "['9404283030', '9404282020']"
      ]
     },
     "execution_count": 2,
     "metadata": {},
     "output_type": "execute_result"
    }
   ],
   "source": [
    "import re\n",
    "text = \"\"\"My name is Rahul Kendre, My mobile Number is 9404283030\n",
    "        email id is rahulkendre@gmail.com \n",
    "        hr@techmahindra.com\n",
    "        9404282020 \n",
    "        22/06/2021 5/06/2021\n",
    "        \"\"\"\n",
    "numbers = re.findall('\\d{10}',text)\n",
    "numbers\n"
   ]
  },
  {
   "cell_type": "code",
   "execution_count": 5,
   "id": "outstanding-clearance",
   "metadata": {},
   "outputs": [
    {
     "data": {
      "text/plain": [
       "<re.Match object; span=(45, 55), match='9404283030'>"
      ]
     },
     "execution_count": 5,
     "metadata": {},
     "output_type": "execute_result"
    }
   ],
   "source": [
    "text = \"\"\"My name is Rahul Kendre, My mobile Number is 9404283030\n",
    "        email id is rahulkendre@gmail.com \n",
    "        hr@techmahindra.com\n",
    "        9404282020 \n",
    "        22/06/2021 5/06/2021\n",
    "        \"\"\"\n",
    "number = re.search('\\d{10}',text)\n",
    "number\n"
   ]
  },
  {
   "cell_type": "code",
   "execution_count": 7,
   "id": "general-jordan",
   "metadata": {},
   "outputs": [
    {
     "data": {
      "text/plain": [
       "(45, 55)"
      ]
     },
     "execution_count": 7,
     "metadata": {},
     "output_type": "execute_result"
    }
   ],
   "source": [
    "number.span()"
   ]
  },
  {
   "cell_type": "code",
   "execution_count": 9,
   "id": "coated-table",
   "metadata": {},
   "outputs": [
    {
     "data": {
      "text/plain": [
       "45"
      ]
     },
     "execution_count": 9,
     "metadata": {},
     "output_type": "execute_result"
    }
   ],
   "source": [
    "number.start()"
   ]
  },
  {
   "cell_type": "code",
   "execution_count": 11,
   "id": "czech-spencer",
   "metadata": {},
   "outputs": [
    {
     "data": {
      "text/plain": [
       "55"
      ]
     },
     "execution_count": 11,
     "metadata": {},
     "output_type": "execute_result"
    }
   ],
   "source": [
    "number.end()"
   ]
  },
  {
   "cell_type": "code",
   "execution_count": 13,
   "id": "desirable-ethiopia",
   "metadata": {},
   "outputs": [
    {
     "data": {
      "text/plain": [
       "'9404283030'"
      ]
     },
     "execution_count": 13,
     "metadata": {},
     "output_type": "execute_result"
    }
   ],
   "source": [
    "number.group()"
   ]
  },
  {
   "cell_type": "code",
   "execution_count": 32,
   "id": "falling-performance",
   "metadata": {},
   "outputs": [
    {
     "name": "stdout",
     "output_type": "stream",
     "text": [
      "9404283030\n"
     ]
    }
   ],
   "source": [
    "text = \"\"\"My name is Rahul Kendre, My mobile Number is 9404283030\n",
    "        email id is rahulkendre@gmail.com \n",
    "        hr@techmahindra.com\n",
    "        9404282020 \n",
    "        22/06/2021 5/06/2021\n",
    "        \"\"\"\n",
    "number = re.search('\\d{10}',text)\n",
    "number\n",
    "if number:\n",
    "    print(number.group())"
   ]
  },
  {
   "cell_type": "markdown",
   "id": "indie-shark",
   "metadata": {},
   "source": [
    "# 3. match "
   ]
  },
  {
   "cell_type": "raw",
   "id": "increasing-reggae",
   "metadata": {},
   "source": [
    "Check for first position(index) of string/text"
   ]
  },
  {
   "cell_type": "code",
   "execution_count": 25,
   "id": "athletic-gothic",
   "metadata": {},
   "outputs": [
    {
     "name": "stdout",
     "output_type": "stream",
     "text": [
      "My\n"
     ]
    }
   ],
   "source": [
    "text = \"\"\"My name is Rahul Kendre, My mobile Number is 940428303\n",
    "        email id is rahulkendre@gmail.com \n",
    "        hr@techmahindra.com\n",
    "        9404282020 \n",
    "        22/06/2021 5/06/2021\n",
    "        \"\"\"\n",
    "\n",
    "first_match = re.match('My',text)\n",
    "first_match\n",
    "if first_match:\n",
    "    print(first_match.group())"
   ]
  },
  {
   "cell_type": "code",
   "execution_count": null,
   "id": "binary-coalition",
   "metadata": {},
   "outputs": [],
   "source": [
    "text = \"\"\"Myname is Rahul Kendre, My mobile Number is 940428303\n",
    "        email id is rahulkendre@gmail.com \n",
    "        hr@techmahindra.com\n",
    "        9404282020 \n",
    "        22/06/2021 5/06/2021\n",
    "        \"\"\"\n",
    "number = re.match('\\d{5}',text)\n",
    "number  # None\n",
    "if number:\n",
    "    print(number.group())"
   ]
  },
  {
   "cell_type": "markdown",
   "id": "endless-plastic",
   "metadata": {},
   "source": [
    "# 4. sub "
   ]
  },
  {
   "cell_type": "raw",
   "id": "lovely-lawrence",
   "metadata": {},
   "source": [
    "It is used to replace occurrences of particular substring with another substring"
   ]
  },
  {
   "cell_type": "code",
   "execution_count": null,
   "id": "5cd6ec02",
   "metadata": {},
   "outputs": [],
   "source": [
    "text = \"\"\"Myname is Rahul Kendre, My mobile Number is 9404283030\n",
    "        email id is rahulkendre@gmail.com \n",
    "        hr@techmahindra.com\n",
    "        22/06/2021 5/06/2021\n",
    "        \"\"\"\n",
    "\n",
    "text = text.replace('9404283030','1234567890')\n",
    "#text"
   ]
  },
  {
   "cell_type": "code",
   "execution_count": 38,
   "id": "deluxe-buyer",
   "metadata": {},
   "outputs": [
    {
     "data": {
      "text/plain": [
       "'Myname is Rahul Kendre, My mobile Number is 88888888888\\n        email id is rahulkendre@gmail.com \\n        hr@techmahindra.com\\n        22/06/2021 5/06/2021\\n        '"
      ]
     },
     "execution_count": 38,
     "metadata": {},
     "output_type": "execute_result"
    }
   ],
   "source": [
    "text = \"\"\"Myname is Rahul Kendre, My mobile Number is 9404283030\n",
    "        email id is rahulkendre@gmail.com \n",
    "        hr@techmahindra.com\n",
    "        22/06/2021 5/06/2021\n",
    "        \"\"\"\n",
    "\n",
    "updated_text = re.sub('9404283030','88888888888',text)\n",
    "updated_text"
   ]
  },
  {
   "cell_type": "code",
   "execution_count": 42,
   "id": "adult-original",
   "metadata": {},
   "outputs": [
    {
     "data": {
      "text/plain": [
       "'Myname is Rahul Kendre, My mobile Number is 88888888888\\n        email id is rahulkendre@gmail.com \\n        hr@techmahindra.com\\n        22/06/2021 5/06/2021\\n        88888888888\\n        '"
      ]
     },
     "execution_count": 42,
     "metadata": {},
     "output_type": "execute_result"
    }
   ],
   "source": [
    "text = \"\"\"Myname is Rahul Kendre, My mobile Number is 9404283030\n",
    "        email id is rahulkendre@gmail.com \n",
    "        hr@techmahindra.com\n",
    "        22/06/2021 5/06/2021\n",
    "        9404280099\n",
    "        \"\"\"\n",
    "\n",
    "updated_text = re.sub('\\d{10}','88888888888',text)\n",
    "updated_text"
   ]
  },
  {
   "cell_type": "code",
   "execution_count": null,
   "id": "elect-transcription",
   "metadata": {},
   "outputs": [],
   "source": [
    "# To remove special Char from text"
   ]
  },
  {
   "cell_type": "code",
   "execution_count": 46,
   "id": "integral-devil",
   "metadata": {},
   "outputs": [
    {
     "data": {
      "text/plain": [
       "'Myname is Rahul Kendre, My mobile Number is 9404283030 \\n        email id is rahulkendregmail.com \\n        hrtechmahindra.com\\n        22/06/2021 5/06/2021  \\n        9404280099\\n        '"
      ]
     },
     "execution_count": 46,
     "metadata": {},
     "output_type": "execute_result"
    }
   ],
   "source": [
    "text = \"\"\"Myname is Rahul Kendre, My mobile Number is 9404283030 ###\n",
    "        email id is rahulkendre@gmail.com \n",
    "        hr@techmahindra.com$$$$\n",
    "        22/06/2021 5/06/2021  \n",
    "        9404280099\n",
    "        \"\"\"\n",
    "new_text = re.sub('[#$@]','',text)\n",
    "new_text"
   ]
  },
  {
   "cell_type": "code",
   "execution_count": null,
   "id": "through-subscriber",
   "metadata": {},
   "outputs": [],
   "source": [
    "# To remove all multiple spaces from string"
   ]
  },
  {
   "cell_type": "code",
   "execution_count": 54,
   "id": "original-istanbul",
   "metadata": {},
   "outputs": [
    {
     "data": {
      "text/plain": [
       "'Myname is Rahul Kendre, My mobile Number is 9404283030 ### email id is rahulkendre@gmail.com hr@techmahindra.com$$$$ 22/06/2021 5/06/2021 9404280099 '"
      ]
     },
     "execution_count": 54,
     "metadata": {},
     "output_type": "execute_result"
    }
   ],
   "source": [
    "text = \"\"\"Myname     is Rahul      Kendre, My mobile    Number is 9404283030 ###\n",
    "        email id is rahulkendre@gmail.com \n",
    "        hr@techmahindra.com$$$$\n",
    "        22/06/2021       5/06/2021  \n",
    "        9404280099\n",
    "        \"\"\"\n",
    "new_text = re.sub('\\s+',' ',text)\n",
    "new_text"
   ]
  },
  {
   "cell_type": "markdown",
   "id": "immediate-article",
   "metadata": {},
   "source": [
    "# Characters with Special Meaning"
   ]
  },
  {
   "cell_type": "markdown",
   "id": "prompt-suffering",
   "metadata": {},
   "source": [
    "### 1. +"
   ]
  },
  {
   "cell_type": "raw",
   "id": "charming-attitude",
   "metadata": {},
   "source": [
    "+ >>  One or more occurrences"
   ]
  },
  {
   "cell_type": "code",
   "execution_count": null,
   "id": "expressed-reasoning",
   "metadata": {},
   "outputs": [],
   "source": [
    "text = \"\"\"Myname     is Rahul      Kendre, My mobile    Number is 9404283030 ###\n",
    "        email id is rahulkendre@gmail.com \n",
    "        hr@techmahindra.com$$$$\n",
    "        22/06/2021       5/06/2021  \n",
    "        9404280099\n",
    "        \"\"\"\n",
    "new_text = re.sub('\\s+',' ',text)\n",
    "new_text"
   ]
  },
  {
   "cell_type": "code",
   "execution_count": 56,
   "id": "billion-peeing",
   "metadata": {},
   "outputs": [
    {
     "data": {
      "text/plain": [
       "'python class'"
      ]
     },
     "execution_count": 56,
     "metadata": {},
     "output_type": "execute_result"
    }
   ],
   "source": [
    "string = 'python    class'\n",
    "new_string = re.sub('\\s+',' ',string)\n",
    "new_string"
   ]
  },
  {
   "cell_type": "code",
   "execution_count": 59,
   "id": "colonial-report",
   "metadata": {},
   "outputs": [
    {
     "data": {
      "text/plain": [
       "'python claS'"
      ]
     },
     "execution_count": 59,
     "metadata": {},
     "output_type": "execute_result"
    }
   ],
   "source": [
    "string = 'python classssss'\n",
    "new_string = re.sub('s+','S',string)\n",
    "new_string"
   ]
  },
  {
   "cell_type": "code",
   "execution_count": 63,
   "id": "secondary-carter",
   "metadata": {},
   "outputs": [
    {
     "data": {
      "text/plain": [
       "['ss', 's', 'ss']"
      ]
     },
     "execution_count": 63,
     "metadata": {},
     "output_type": "execute_result"
    }
   ],
   "source": [
    "string = 'python class and data science class'\n",
    "new_string = re.findall('s+',string)\n",
    "new_string"
   ]
  },
  {
   "cell_type": "code",
   "execution_count": 6,
   "id": "vocational-advantage",
   "metadata": {},
   "outputs": [
    {
     "data": {
      "text/plain": [
       "['pyt', 'pyt']"
      ]
     },
     "execution_count": 6,
     "metadata": {},
     "output_type": "execute_result"
    }
   ],
   "source": [
    "string = 'python class and data science class  python pyyytttthon '\n",
    "new_string = re.findall('pyt+',string)\n",
    "new_string"
   ]
  },
  {
   "cell_type": "markdown",
   "id": "close-armenia",
   "metadata": {},
   "source": [
    "# 2. *"
   ]
  },
  {
   "cell_type": "raw",
   "id": "chief-nothing",
   "metadata": {},
   "source": [
    "Zero or More occurrences"
   ]
  },
  {
   "cell_type": "code",
   "execution_count": 3,
   "id": "changed-balance",
   "metadata": {},
   "outputs": [
    {
     "data": {
      "text/plain": [
       "['pyt', 'py']"
      ]
     },
     "execution_count": 3,
     "metadata": {},
     "output_type": "execute_result"
    }
   ],
   "source": [
    "string = 'python class and data science class pyhon '\n",
    "new_string = re.findall('pyt*',string)\n",
    "new_string"
   ]
  },
  {
   "cell_type": "markdown",
   "id": "immediate-sleep",
   "metadata": {},
   "source": [
    "# 3. ^"
   ]
  },
  {
   "cell_type": "raw",
   "id": "herbal-booking",
   "metadata": {},
   "source": [
    "Startswith"
   ]
  },
  {
   "cell_type": "code",
   "execution_count": 82,
   "id": "following-milan",
   "metadata": {},
   "outputs": [
    {
     "data": {
      "text/plain": [
       "['python']"
      ]
     },
     "execution_count": 82,
     "metadata": {},
     "output_type": "execute_result"
    }
   ],
   "source": [
    "string = 'python class'\n",
    "new_string = re.findall('^python',string)\n",
    "new_string"
   ]
  },
  {
   "cell_type": "code",
   "execution_count": 83,
   "id": "alpine-latino",
   "metadata": {},
   "outputs": [
    {
     "data": {
      "text/plain": [
       "[]"
      ]
     },
     "execution_count": 83,
     "metadata": {},
     "output_type": "execute_result"
    }
   ],
   "source": [
    "string = 'python class'\n",
    "new_string = re.findall('^class',string)\n",
    "new_string"
   ]
  },
  {
   "cell_type": "markdown",
   "id": "naughty-productivity",
   "metadata": {},
   "source": [
    "# 4. $ >> Endswith"
   ]
  },
  {
   "cell_type": "code",
   "execution_count": 84,
   "id": "liked-frame",
   "metadata": {},
   "outputs": [
    {
     "data": {
      "text/plain": [
       "['class']"
      ]
     },
     "execution_count": 84,
     "metadata": {},
     "output_type": "execute_result"
    }
   ],
   "source": [
    "string = 'python class'\n",
    "new_string = re.findall('class$',string)\n",
    "new_string"
   ]
  },
  {
   "cell_type": "code",
   "execution_count": 85,
   "id": "indoor-enterprise",
   "metadata": {},
   "outputs": [
    {
     "data": {
      "text/plain": [
       "[]"
      ]
     },
     "execution_count": 85,
     "metadata": {},
     "output_type": "execute_result"
    }
   ],
   "source": [
    "string = 'python class'\n",
    "new_string = re.findall('python$',string)\n",
    "new_string"
   ]
  },
  {
   "cell_type": "code",
   "execution_count": 17,
   "id": "aggressive-software",
   "metadata": {},
   "outputs": [
    {
     "data": {
      "text/plain": [
       "['pythonn', 'pythonnnn']"
      ]
     },
     "execution_count": 17,
     "metadata": {},
     "output_type": "execute_result"
    }
   ],
   "source": [
    "string = 'pythonn class pythonnnn pytho'\n",
    "new_string = re.findall('python+',string)\n",
    "new_string"
   ]
  },
  {
   "cell_type": "code",
   "execution_count": 16,
   "id": "thirty-reminder",
   "metadata": {},
   "outputs": [
    {
     "data": {
      "text/plain": [
       "['pythonn', 'pythonnnn', 'pytho']"
      ]
     },
     "execution_count": 16,
     "metadata": {},
     "output_type": "execute_result"
    }
   ],
   "source": [
    "string = 'pythonn class pythonnnn pytho'\n",
    "new_string = re.findall('python*',string)\n",
    "new_string"
   ]
  },
  {
   "cell_type": "markdown",
   "id": "endless-amazon",
   "metadata": {},
   "source": [
    "# 5. . (Dot)"
   ]
  },
  {
   "cell_type": "raw",
   "id": "pending-municipality",
   "metadata": {},
   "source": [
    "Any Char(except new line)"
   ]
  },
  {
   "cell_type": "code",
   "execution_count": 99,
   "id": "relative-partition",
   "metadata": {},
   "outputs": [
    {
     "data": {
      "text/plain": [
       "['python ', 'python ', 'pythhon']"
      ]
     },
     "execution_count": 99,
     "metadata": {},
     "output_type": "execute_result"
    }
   ],
   "source": [
    "string = 'python class python pythhon pyt'\n",
    "new_string = re.findall('pyth...',string)\n",
    "new_string"
   ]
  },
  {
   "cell_type": "markdown",
   "id": "retained-campbell",
   "metadata": {},
   "source": [
    "# 6. ? (Question Mark)"
   ]
  },
  {
   "cell_type": "raw",
   "id": "announced-property",
   "metadata": {},
   "source": [
    "It matches exactly one char or zero ()"
   ]
  },
  {
   "cell_type": "code",
   "execution_count": 25,
   "id": "alpha-cylinder",
   "metadata": {},
   "outputs": [
    {
     "data": {
      "text/plain": [
       "['pyt', 'pyt', 'pyt', 'py']"
      ]
     },
     "execution_count": 25,
     "metadata": {},
     "output_type": "execute_result"
    }
   ],
   "source": [
    "string = 'python class python pythhon py'\n",
    "new_string = re.findall('pyt?',string)\n",
    "new_string"
   ]
  },
  {
   "cell_type": "code",
   "execution_count": 105,
   "id": "cloudy-fence",
   "metadata": {},
   "outputs": [
    {
     "data": {
      "text/plain": [
       "['hon']"
      ]
     },
     "execution_count": 105,
     "metadata": {},
     "output_type": "execute_result"
    }
   ],
   "source": [
    "string = 'pythonr'\n",
    "new_string = re.findall('honn?',string)\n",
    "new_string"
   ]
  },
  {
   "cell_type": "code",
   "execution_count": 107,
   "id": "unexpected-ecuador",
   "metadata": {},
   "outputs": [
    {
     "data": {
      "text/plain": [
       "['honn']"
      ]
     },
     "execution_count": 107,
     "metadata": {},
     "output_type": "execute_result"
    }
   ],
   "source": [
    "string = 'pythonn'\n",
    "new_string = re.findall('honn?',string)\n",
    "new_string"
   ]
  },
  {
   "cell_type": "code",
   "execution_count": 110,
   "id": "instrumental-genealogy",
   "metadata": {},
   "outputs": [
    {
     "data": {
      "text/plain": [
       "['honn']"
      ]
     },
     "execution_count": 110,
     "metadata": {},
     "output_type": "execute_result"
    }
   ],
   "source": [
    "string = 'pythonnnnnn'\n",
    "new_string = re.findall('honn?',string)\n",
    "new_string"
   ]
  },
  {
   "cell_type": "code",
   "execution_count": null,
   "id": "eight-genealogy",
   "metadata": {},
   "outputs": [],
   "source": []
  },
  {
   "cell_type": "code",
   "execution_count": null,
   "id": "unique-shift",
   "metadata": {},
   "outputs": [],
   "source": []
  },
  {
   "cell_type": "code",
   "execution_count": 19,
   "id": "received-inspiration",
   "metadata": {},
   "outputs": [
    {
     "data": {
      "text/plain": [
       "['python class']"
      ]
     },
     "execution_count": 19,
     "metadata": {},
     "output_type": "execute_result"
    }
   ],
   "source": [
    "string = 'python class python'\n",
    "data = re.findall('^p.+s',string)\n",
    "data"
   ]
  },
  {
   "cell_type": "code",
   "execution_count": 21,
   "id": "artificial-denver",
   "metadata": {},
   "outputs": [
    {
     "data": {
      "text/plain": [
       "['python class python']"
      ]
     },
     "execution_count": 21,
     "metadata": {},
     "output_type": "execute_result"
    }
   ],
   "source": [
    "string = 'python class python'\n",
    "data = re.findall('^p.*',string)\n",
    "data"
   ]
  },
  {
   "cell_type": "code",
   "execution_count": 135,
   "id": "extraordinary-cleaning",
   "metadata": {},
   "outputs": [
    {
     "data": {
      "text/plain": [
       "['python ', ' Data ', 'Science']"
      ]
     },
     "execution_count": 135,
     "metadata": {},
     "output_type": "execute_result"
    }
   ],
   "source": [
    "string = 'python and Data Science'\n",
    "data = re.findall('python | Data |Science',string)\n",
    "data"
   ]
  },
  {
   "cell_type": "code",
   "execution_count": 139,
   "id": "impressed-mediterranean",
   "metadata": {},
   "outputs": [
    {
     "data": {
      "text/plain": [
       "['python']"
      ]
     },
     "execution_count": 139,
     "metadata": {},
     "output_type": "execute_result"
    }
   ],
   "source": [
    "string = 'python'\n",
    "data = re.findall('python|Data|Science',string)\n",
    "data"
   ]
  },
  {
   "cell_type": "code",
   "execution_count": 140,
   "id": "respective-knitting",
   "metadata": {},
   "outputs": [],
   "source": [
    "# Find out words starting with vowels"
   ]
  },
  {
   "cell_type": "code",
   "execution_count": 142,
   "id": "small-smart",
   "metadata": {},
   "outputs": [
    {
     "data": {
      "text/plain": [
       "{'is': 2,\n",
       " 'an': 2,\n",
       " 'interdisciplinary': 17,\n",
       " 'uses': 4,\n",
       " 'algorithms': 10,\n",
       " 'and': 3,\n",
       " 'extract': 7,\n",
       " 'insights': 8,\n",
       " 'unstructured': 12,\n",
       " 'apply': 5,\n",
       " 'actionable': 10,\n",
       " 'across': 6,\n",
       " 'of': 2,\n",
       " 'application': 11}"
      ]
     },
     "execution_count": 142,
     "metadata": {},
     "output_type": "execute_result"
    }
   ],
   "source": [
    "text = \"\"\"Data science is an interdisciplinary field that uses scientific methods, \n",
    "processes, algorithms and systems to extract knowledge and insights from structured and\n",
    "unstructured data, and apply knowledge and actionable insights from data across a broad\n",
    "range of application domains\"\"\"\n",
    "\n",
    "\n",
    "vowels = re.findall(r'\\b[aeiou]\\w+',text)\n",
    "d1 = {}\n",
    "for word in vowels:\n",
    "    d1[word] = len(word)\n",
    "d1\n"
   ]
  },
  {
   "cell_type": "code",
   "execution_count": 148,
   "id": "organizational-breakfast",
   "metadata": {},
   "outputs": [
    {
     "name": "stdout",
     "output_type": "stream",
     "text": [
      "The words starting with vowels are: \n",
      " ['is', 'an', 'interdisciplinary', 'uses', 'algorithms', 'and', 'extract', 'and', 'insights', 'and', 'unstructured', 'and', 'apply', 'and', 'actionable', 'insights', 'across', 'of', 'application'] 19\n"
     ]
    }
   ],
   "source": [
    "text = \"\"\"Data science is an interdisciplinary field that uses scientific methods, \n",
    "processes, algorithms and systems to extract knowledge and insights from structured and\n",
    "unstructured data, and apply knowledge and actionable insights from data across a broad\n",
    "range of application domains\"\"\"\n",
    "\n",
    "vowels = re.findall(r'\\b[aeiou]\\w+',text)\n",
    "print('The words starting with vowels are: \\n',vowels,len(vowels))"
   ]
  },
  {
   "cell_type": "code",
   "execution_count": 151,
   "id": "timely-chester",
   "metadata": {},
   "outputs": [
    {
     "name": "stdout",
     "output_type": "stream",
     "text": [
      "19\n",
      "['is', 'an', 'interdisciplinary', 'uses', 'algorithms', 'and', 'extract', 'and', 'insights', 'and', 'unstructured', 'and', 'apply', 'and', 'actionable', 'insights', 'across', 'of', 'application']\n"
     ]
    }
   ],
   "source": [
    "word=re.findall(r'\\b[aeiou]\\w+',text)\n",
    "print(len(word))\n",
    "print(word)"
   ]
  },
  {
   "cell_type": "code",
   "execution_count": 153,
   "id": "assured-colonial",
   "metadata": {},
   "outputs": [
    {
     "name": "stdout",
     "output_type": "stream",
     "text": [
      "['is', 'an', 'interdisciplinary', 'uses', 'algorithms', 'and', 'extract', 'and', 'insights', 'and', 'unstructured', 'and', 'apply', 'and', 'actionable', 'insights', 'across', 'of', 'application']\n"
     ]
    },
    {
     "data": {
      "text/plain": [
       "19"
      ]
     },
     "execution_count": 153,
     "metadata": {},
     "output_type": "execute_result"
    }
   ],
   "source": [
    "vow= re.findall(r'\\b[aeiou][a-zA-Z]{1,20}\\b',text)\n",
    "print(vow)\n",
    "len(vow)"
   ]
  },
  {
   "cell_type": "code",
   "execution_count": null,
   "id": "fiscal-spouse",
   "metadata": {},
   "outputs": [],
   "source": []
  },
  {
   "cell_type": "markdown",
   "id": "threatened-albert",
   "metadata": {},
   "source": [
    "# KYC Details"
   ]
  },
  {
   "cell_type": "raw",
   "id": "historical-investing",
   "metadata": {},
   "source": [
    "# PAN CARD\n",
    "Image to Text\n",
    "pytesseract "
   ]
  },
  {
   "cell_type": "code",
   "execution_count": null,
   "id": "cross-greenhouse",
   "metadata": {},
   "outputs": [],
   "source": [
    "MY deatails are"
   ]
  },
  {
   "cell_type": "code",
   "execution_count": 181,
   "id": "funky-messenger",
   "metadata": {},
   "outputs": [],
   "source": [
    "text = \"\"\"Name : Ankit Baghel\n",
    "DOB : 31/10/1992\n",
    "PAN Number : EJAPS0276Z\n",
    "AAdhar Number : 1234 5678 2345\n",
    "DL: MH12 123445678\n",
    "Voter ID: \n",
    "\"\"\""
   ]
  },
  {
   "cell_type": "code",
   "execution_count": 182,
   "id": "outer-framing",
   "metadata": {},
   "outputs": [
    {
     "name": "stdout",
     "output_type": "stream",
     "text": [
      " ######### Details of User  ############\n",
      "PAN Card Number is :  ['EJAPS0276Z']\n",
      "Date of Birth is : ['31/10/1992']\n",
      "KYC details of person are: \n",
      " {'PAN_Number': 'EJAPS0276Z', 'Date of Birth': '31/10/1992'}\n"
     ]
    }
   ],
   "source": [
    "class IdDetails:\n",
    "    def __init__(self,data):\n",
    "        print(' ######### Details of User  ############')\n",
    "        self.data = data  # instance variable\n",
    "        \n",
    "    def get_PAN_Number(self):\n",
    "        PAN_Number = re.findall('[A-Z]{5}\\d{4}[A-Z]',self.data)\n",
    "        print('PAN Card Number is : ',PAN_Number)\n",
    "        if PAN_Number:  \n",
    "            return PAN_Number[0]\n",
    "        \n",
    "    def get_dob(self):\n",
    "        dob = re.findall('\\d{2}[/]\\d{2}[/]\\d{4}',self.data) # It return list\n",
    "        print('Date of Birth is :',dob)\n",
    "        if dob: # True if list is not blank\n",
    "            return dob[0]\n",
    "        \n",
    "kycObj = IdDetails(text)\n",
    "\n",
    "KYC_DETAILS = {}\n",
    "KYC_DETAILS['PAN_Number'] = kycObj.get_PAN_Number()\n",
    "KYC_DETAILS['Date of Birth'] = kycObj.get_dob()\n",
    "\n",
    "print('KYC details of person are: \\n',KYC_DETAILS)"
   ]
  },
  {
   "cell_type": "code",
   "execution_count": null,
   "id": "excessive-hartford",
   "metadata": {},
   "outputs": [],
   "source": [
    "list1 = ['31/10/1992']\n",
    "list1[0]"
   ]
  }
 ],
 "metadata": {
  "kernelspec": {
   "display_name": "Python 3",
   "language": "python",
   "name": "python3"
  },
  "language_info": {
   "codemirror_mode": {
    "name": "ipython",
    "version": 3
   },
   "file_extension": ".py",
   "mimetype": "text/x-python",
   "name": "python",
   "nbconvert_exporter": "python",
   "pygments_lexer": "ipython3",
   "version": "3.8.8"
  }
 },
 "nbformat": 4,
 "nbformat_minor": 5
}
